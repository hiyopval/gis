{
 "cells": [
  {
   "attachments": {},
   "cell_type": "markdown",
   "metadata": {},
   "source": [
    "# 美しい地図を作りましょう\n",
    "\n",
    "<img src=\"https://raw.githubusercontent.com/yohman/23-1-Reitaku-GIS/main/Weeks/Week09/images/better maps.jpg\">\n",
    "\n",
    "matplotlib を使用してマップを作成する方法を学習しました。 このラボでは、マップ フィーチャの変更、ベースマップの追加、タイトルの作成などにより、これらのマップをさらに磨き上げる方法を学びます。"
   ]
  },
  {
   "attachments": {},
   "cell_type": "markdown",
   "metadata": {},
   "source": [
    "*注意\n",
    "\n",
    "matplotlib には日本語フォント表示に関する問題があります。 Mac と PC のどちらを使用しているかに応じて、以下の適切なフォント ファミリを設定してください。"
   ]
  },
  {
   "cell_type": "code",
   "execution_count": null,
   "metadata": {},
   "outputs": [],
   "source": [
    "import geopandas as gpd\n",
    "import contextily as ctx\n",
    "import plotly.express as px\n",
    "import matplotlib.pyplot as plt\n",
    "\n",
    "# set font\n",
    "import matplotlib as mpl\n",
    "\n",
    "# for Mac\n",
    "mpl.rc('font',family='Hiragino Maru Gothic Pro')\n",
    "\n",
    "# for PC\n",
    "# mpl.rc('font',family='MS Gothic')\n"
   ]
  },
  {
   "attachments": {},
   "cell_type": "markdown",
   "metadata": {},
   "source": [
    "## Get data\n",
    "\n",
    "まずはe-Statのサイトにアクセス。そこから次に手順でデータをダウンロードして今週のフォルダーに入れる：\n",
    "\n",
    "➡️ https://www.e-stat.go.jp/\n",
    "\n",
    "➡️ 地図\n",
    "\n",
    "➡️ 統計データダウンロード\n",
    "\n",
    "➡️ 境界データ\n",
    "\n",
    "➡️ 小地域\n",
    "\n",
    "➡️ 国勢調査\n",
    "\n",
    "➡️ 2020年\n",
    "\n",
    "➡️ 小地域（基本単位区）（JGD2000）\n",
    "\n",
    "➡️ 世界測地系緯度経度・Shapefile\n",
    "\n",
    "➡️ 12 千葉県\n",
    "\n",
    "➡️ 12217 柏市"
   ]
  },
  {
   "cell_type": "code",
   "execution_count": null,
   "metadata": {},
   "outputs": [],
   "source": [
    "gdf = gpd.read_file('B002005212020DDSWC12217.zip')"
   ]
  },
  {
   "cell_type": "markdown",
   "metadata": {},
   "source": [
    "### チャレンジ問題\n",
    "次は`gdf`変数に入れたデータを自分でコマンドを入力してexploreしましょう。\n",
    "- `gdf.info()` get information about the data\n",
    "- `gdf.plot()` make a quick map of the data\n",
    "- `gdf.head()` see the first 5 rows of the data"
   ]
  },
  {
   "cell_type": "code",
   "execution_count": null,
   "metadata": {},
   "outputs": [],
   "source": [
    "# get information\n"
   ]
  },
  {
   "cell_type": "code",
   "execution_count": null,
   "metadata": {},
   "outputs": [],
   "source": [
    "# quick map of the data\n"
   ]
  },
  {
   "cell_type": "code",
   "execution_count": null,
   "metadata": {},
   "outputs": [],
   "source": [
    "# show the first 5 rows\n"
   ]
  },
  {
   "cell_type": "markdown",
   "metadata": {},
   "source": [
    "このデータを「丁目」でまとめたいのでテーブルの中の丁目を示す「S_NAME」でグループ化してsumします。"
   ]
  },
  {
   "cell_type": "code",
   "execution_count": null,
   "metadata": {},
   "outputs": [],
   "source": [
    "# dissolve by S_NAME and sum fields \n",
    "gdf = gdf.dissolve(by='S_NAME',aggfunc='sum').reset_index()"
   ]
  },
  {
   "attachments": {},
   "cell_type": "markdown",
   "metadata": {},
   "source": [
    "### `subplots()`を使ってマップ作りのオプションを増やそう\n",
    "ではとりあえずシンプルにマップを`subplots()` and `fig,ax`という変数を使って作ろう。このアプローチはmatplotlibでよく使われ、複数のマップを同時に作りたい時に後々役に立ちます。今のうちに覚えておくと良い！"
   ]
  },
  {
   "cell_type": "code",
   "execution_count": null,
   "metadata": {},
   "outputs": [],
   "source": [
    "# simple map of the data using subplots\n",
    "fig,ax = plt.subplots()\n",
    "gdf.plot(ax=ax)"
   ]
  },
  {
   "attachments": {},
   "cell_type": "markdown",
   "metadata": {},
   "source": [
    "データには既に「JINKO」のカラムがあるので、これを使ってコロプレス（choropleth）マップを作ろう。\n",
    "- `column='JINKO'`\n",
    "- `legend=True`"
   ]
  },
  {
   "cell_type": "code",
   "execution_count": null,
   "metadata": {},
   "outputs": [],
   "source": [
    "# population map\n",
    "fig,ax = plt.subplots()\n",
    "gdf.plot(ax=ax,\n",
    "         column='JINKO',\n",
    "         legend=True);"
   ]
  },
  {
   "attachments": {},
   "cell_type": "markdown",
   "metadata": {},
   "source": [
    "## Size\n",
    "\n",
    "マップのサイズを変更\n",
    "- `figsize=(10,10)`\n",
    "\n",
    "2 つの数字はマップの幅と高さを示しますが、マップされるデータの形状に応じてサイズが変化する可能性があります。"
   ]
  },
  {
   "cell_type": "code",
   "execution_count": null,
   "metadata": {},
   "outputs": [],
   "source": [
    "# population map\n",
    "fig,ax = plt.subplots(figsize=(10,10))\n",
    "gdf.plot(ax=ax,\n",
    "         column='JINKO',\n",
    "         legend=True);"
   ]
  },
  {
   "attachments": {},
   "cell_type": "markdown",
   "metadata": {},
   "source": [
    "## Color\n",
    "\n",
    "`cmap` 引数を設定して、次の選択肢からコロプレス マップのカラー パレットを割り当てることができます。なお、色の方向を変えるには `_r` を付け加えればいい。\n",
    "\n",
    "例：　\n",
    "- `cmap='autumn'`\n",
    "- `cmap='autumn_r'`\n",
    "\n",
    "<img src=\"https://raw.githubusercontent.com/yohman/23-1-Reitaku-GIS/main/Weeks/Week09/images/sphx_glr_colormaps_002.webp\">\n",
    "<img src=\"https://raw.githubusercontent.com/yohman/23-1-Reitaku-GIS/main/Weeks/Week09/images/sphx_glr_colormaps_003.webp\">\n",
    "<img src=\"https://raw.githubusercontent.com/yohman/23-1-Reitaku-GIS/main/Weeks/Week09/images/sphx_glr_colormaps_004.webp\">"
   ]
  },
  {
   "cell_type": "code",
   "execution_count": null,
   "metadata": {},
   "outputs": [],
   "source": [
    "# population map\n",
    "fig,ax = plt.subplots(figsize=(10,10))\n",
    "gdf.plot(ax=ax,\n",
    "         column='JINKO',\n",
    "         legend=True,\n",
    "         cmap='Oranges');"
   ]
  },
  {
   "attachments": {},
   "cell_type": "markdown",
   "metadata": {},
   "source": [
    "## Lines\n",
    "\n",
    "次の引数を使用して、ポリゴンの境界線の幅と色を変更できます。\n",
    "\n",
    "- `edgecolor='black'`\n",
    "- `linewidth=0.1`"
   ]
  },
  {
   "cell_type": "code",
   "execution_count": null,
   "metadata": {},
   "outputs": [],
   "source": [
    "# population map\n",
    "fig,ax = plt.subplots(figsize=(10,10))\n",
    "gdf.plot(ax=ax,\n",
    "         column='JINKO',\n",
    "         legend=True,\n",
    "         cmap='Reds',\n",
    "         edgecolor='black',\n",
    "         linewidth=0.2);"
   ]
  },
  {
   "attachments": {},
   "cell_type": "markdown",
   "metadata": {},
   "source": [
    "## Hide Axes\n",
    "\n",
    "軸を非表示にするには、コード内に新しい行を作成し、`ax` 変数にアクセスする必要があります。\n",
    "\n",
    "- `ax.axis('off')`\n"
   ]
  },
  {
   "cell_type": "code",
   "execution_count": null,
   "metadata": {},
   "outputs": [],
   "source": [
    "# population map\n",
    "fig,ax = plt.subplots(figsize=(10,10))\n",
    "gdf.plot(ax=ax,\n",
    "         column='JINKO',\n",
    "         legend=True,\n",
    "         cmap='Reds',\n",
    "         edgecolor='black',\n",
    "         linewidth=0.1);\n",
    "\n",
    "# hide axes\n",
    "ax.axis('off');"
   ]
  },
  {
   "cell_type": "markdown",
   "metadata": {},
   "source": [
    "## Legend options\n",
    "\n",
    "凡例、デカくない？ラベルは？下にできない？と思ったら、オプションを足してみよう！\n",
    "\n",
    "- `legend_kwds={'label': \"人口数\",'shrink': 0.5, 'orientation': \"horizontal\", 'pad': 0.01}`\n"
   ]
  },
  {
   "cell_type": "code",
   "execution_count": null,
   "metadata": {},
   "outputs": [],
   "source": [
    "# population map\n",
    "fig,ax = plt.subplots(figsize=(10,10))\n",
    "gdf.plot(ax=ax,\n",
    "         column='JINKO',\n",
    "         legend=True,\n",
    "         cmap='Reds',\n",
    "         edgecolor='black',\n",
    "         linewidth=0.1,\n",
    "         legend_kwds={'label': \"人口数\",'shrink': 0.5, 'orientation': \"horizontal\", 'pad': 0.01}\n",
    "         )\n",
    "\n",
    "# hide axes\n",
    "ax.axis('off');"
   ]
  },
  {
   "attachments": {},
   "cell_type": "markdown",
   "metadata": {},
   "source": [
    "## Title\n",
    "\n",
    "マップのタイトルを設定するには、`ax` 変数を参照する別のコード行を追加する必要があります。\n",
    "\n",
    "なお、日本語フォントの設定する必要があるのでMACかPCによって違うので注意：\n",
    "\n",
    "Windows PC:\n",
    "- `ax.set_title('柏市の人口',fontsize=24, fontname='MS Gothic');`\n",
    "\n",
    "Mac:\n",
    "- `ax.set_title('柏市の人口',fontsize=24, fontname='Hiragino Maru Gothic Pro');`"
   ]
  },
  {
   "cell_type": "code",
   "execution_count": null,
   "metadata": {},
   "outputs": [],
   "source": [
    "# population map\n",
    "fig,ax = plt.subplots(figsize=(10,10))\n",
    "gdf.plot(ax=ax,\n",
    "         column='JINKO',\n",
    "         legend=True,\n",
    "         cmap='Reds',\n",
    "         edgecolor='black',\n",
    "         linewidth=0.1,\n",
    "         legend_kwds={'label': \"人口数\",'shrink': 0.5, 'orientation': \"horizontal\", 'pad': 0.01}\n",
    "         )\n",
    "\n",
    "# hide axes\n",
    "ax.axis('off')\n",
    "\n",
    "# title\n",
    "ax.set_title('柏市の人口(2020)',fontsize=24, pad=20);"
   ]
  },
  {
   "cell_type": "markdown",
   "metadata": {},
   "source": [
    "## Basemap\n",
    "\n",
    "ベースマップを足すには複数のステップが必要となる。\n",
    "\n",
    "まずはベースマップを提供しているモジュール【contextily】をimportする。"
   ]
  },
  {
   "cell_type": "code",
   "execution_count": null,
   "metadata": {},
   "outputs": [],
   "source": [
    "import contextily as cx"
   ]
  },
  {
   "cell_type": "markdown",
   "metadata": {},
   "source": [
    "次はデータをcontextilyがサポートしている地図投影法に変換する必要がある。\n",
    "\n",
    "え？地図投影法とは？\n",
    "\n",
    "## Projections\n",
    "\n",
    "<img src=\"https://raw.githubusercontent.com/yohman/23-1-Reitaku-GIS/main/Weeks/Week09/images/projections.png\">\n",
    "\n",
    "https://www.esrij.com/gis-guide/coordinate-and-spatial/coordinate-system/"
   ]
  },
  {
   "cell_type": "markdown",
   "metadata": {},
   "source": [
    "\n",
    "https://ja.wikipedia.org/wiki/%E5%9C%B0%E5%9B%B3%E6%8A%95%E5%BD%B1%E6%B3%95%E3%81%AE%E4%B8%80%E8%A6%A7\n",
    "\n",
    "緯度経度 (latitude,longitude) で表されているデータの地理座標系のcrs番号は `4326`だがcontextilyのベースマップは【Web メルカトル】という投影座標系を使っていて、その crs番号は `3857` である。"
   ]
  },
  {
   "cell_type": "code",
   "execution_count": null,
   "metadata": {},
   "outputs": [],
   "source": [
    "# change projection for your data to match basemap\n",
    "gdf=gdf.to_crs(3857)"
   ]
  },
  {
   "cell_type": "markdown",
   "metadata": {},
   "source": [
    "## Basemap options\n",
    "\n",
    "<img src=\"https://raw.githubusercontent.com/yohman/23-1-Reitaku-GIS/main/Weeks/Week09/images/basemaps.jpg\">\n",
    "\n",
    "- source='https://cyberjapandata.gsi.go.jp/xyz/std/{z}/{x}/{y}.png'\n",
    "- source='https://cyberjapandata.gsi.go.jp/xyz/seamlessphoto/{z}/{x}/{y}.jpg'\n",
    "- source='https://cyberjapandata.gsi.go.jp/xyz/pale/{z}/{x}/{y}.png'\n",
    "- source='https://cyberjapandata.gsi.go.jp/xyz/blank/{z}/{x}/{y}.png'\n"
   ]
  },
  {
   "cell_type": "code",
   "execution_count": null,
   "metadata": {},
   "outputs": [],
   "source": [
    "# population map\n",
    "fig,ax = plt.subplots(figsize=(10,10))\n",
    "\n",
    "gdf.plot(ax=ax,\n",
    "         column='JINKO',\n",
    "         legend=True,\n",
    "         cmap='Reds',\n",
    "         edgecolor='black',\n",
    "         linewidth=0.1,\n",
    "         legend_kwds={'label': \"人口数\",'shrink': 0.5, 'orientation': \"horizontal\", 'pad': 0.01}\n",
    "         )\n",
    "\n",
    "# hide axes\n",
    "ax.axis('off')\n",
    "\n",
    "# title\n",
    "ax.set_title('柏市の人口(2020)',fontsize=24, pad=20)\n",
    "\n",
    "# Add the basemap\n",
    "ctx.add_basemap(ax, source='https://cyberjapandata.gsi.go.jp/xyz/seamlessphoto/{z}/{x}/{y}.jpg');"
   ]
  },
  {
   "cell_type": "markdown",
   "metadata": {},
   "source": [
    "## Transparency\n",
    "\n",
    "コロプレス レイヤーに少し透明度を追加して、ベースマップ上にシームレスに「浮かせる」ことができます。\n",
    "\n",
    "- `alpha=0.8`"
   ]
  },
  {
   "cell_type": "code",
   "execution_count": null,
   "metadata": {},
   "outputs": [],
   "source": [
    "# population map\n",
    "fig, ax = plt.subplots(figsize=(10,10))\n",
    "\n",
    "gdf.plot(ax=ax,\n",
    "         column='JINKO',\n",
    "         legend=True,\n",
    "         cmap='Reds',\n",
    "         edgecolor='black',\n",
    "         linewidth=0.1,\n",
    "         alpha=0.8,\n",
    "         legend_kwds={'label': \"人口数\",'shrink': 0.6, 'orientation': \"horizontal\", 'pad': 0.01}\n",
    "         )\n",
    "\n",
    "# hide axes\n",
    "ax.axis('off')\n",
    "\n",
    "# title\n",
    "ax.set_title('柏市の人口(2020)', fontsize=24,pad=20)\n",
    "\n",
    "# Add the basemap\n",
    "ctx.add_basemap(ax, source='https://cyberjapandata.gsi.go.jp/xyz/seamlessphoto/{z}/{x}/{y}.jpg');\n"
   ]
  },
  {
   "cell_type": "markdown",
   "metadata": {},
   "source": [
    "## Labels\n",
    "\n",
    "ちょっと高度なテクニックだが、以下のようにトップ１０人口が高い場所のラベルをつける。"
   ]
  },
  {
   "cell_type": "code",
   "execution_count": null,
   "metadata": {},
   "outputs": [],
   "source": [
    "# population map\n",
    "fig, ax = plt.subplots(figsize=(10,10))\n",
    "\n",
    "gdf.plot(ax=ax,\n",
    "         column='JINKO',\n",
    "         legend=True,\n",
    "         cmap='Reds',\n",
    "         edgecolor='black',\n",
    "         linewidth=0.1,\n",
    "         alpha=0.8,\n",
    "         legend_kwds={'label': \"人口数\",'shrink': 0.6, 'orientation': \"horizontal\", 'pad': 0.01}\n",
    "         )\n",
    "\n",
    "# hide axes\n",
    "ax.axis('off')\n",
    "\n",
    "# Sort the dataframe by JINKO in descending order\n",
    "gdf_sorted = gdf.sort_values('JINKO', ascending=False)\n",
    "\n",
    "# Get the top 10 rows\n",
    "top_10 = gdf_sorted.head(20)\n",
    "\n",
    "# Label the polygons with the top 10 highest JINKO values\n",
    "for idx, row in top_10.iterrows():\n",
    "    ax.annotate(row['S_NAME'], (row.geometry.centroid.x, row.geometry.centroid.y), color='black', fontsize=10, ha='center')\n",
    "\n",
    "# title\n",
    "ax.set_title('柏市の人口(2020)', fontsize=24,pad=20)\n",
    "\n",
    "# Add the basemap\n",
    "ctx.add_basemap(ax, source='https://cyberjapandata.gsi.go.jp/xyz/seamlessphoto/{z}/{x}/{y}.jpg')\n"
   ]
  },
  {
   "attachments": {},
   "cell_type": "markdown",
   "metadata": {},
   "source": [
    "# Exercise\n",
    "\n",
    "「SETAI」を示す地図を作成しましょう。 それに応じてタイトルを変更してください。 マップのさまざまな色を試してください。"
   ]
  },
  {
   "cell_type": "code",
   "execution_count": null,
   "metadata": {},
   "outputs": [],
   "source": [
    "# create your SETAI map\n",
    "\n"
   ]
  },
  {
   "cell_type": "markdown",
   "metadata": {},
   "source": [
    "## Advanced topics\n",
    "Two side-by-side maps"
   ]
  },
  {
   "cell_type": "code",
   "execution_count": null,
   "metadata": {},
   "outputs": [],
   "source": [
    "# Create a figure with two subplots\n",
    "fig, axs = plt.subplots(1, 2, figsize=(12, 6))\n",
    "\n",
    "# Plot the first map on the left subplot\n",
    "gdf.plot(ax=axs[0],\n",
    "         column='JINKO',\n",
    "         legend=True,\n",
    "         cmap='Reds',\n",
    "         edgecolor='black',\n",
    "         linewidth=0.1,\n",
    "         alpha=0.8,\n",
    "         legend_kwds={'label': \"人口数\",'shrink': 0.6, 'orientation': \"horizontal\", 'pad': 0.01}\n",
    "         )\n",
    "axs[0].axis('off')\n",
    "axs[0].set_title('柏市の人口(2020)', fontsize=12)\n",
    "\n",
    "# Plot the second map on the right subplot\n",
    "gdf.plot(ax=axs[1],\n",
    "         column='SETAI',\n",
    "         legend=True,\n",
    "         cmap='Blues',\n",
    "         edgecolor='black',\n",
    "         linewidth=0.1,\n",
    "         alpha=0.8,\n",
    "         legend_kwds={'label': \"世帯数\",'shrink': 0.6, 'orientation': \"horizontal\", 'pad': 0.01}\n",
    "         )\n",
    "axs[1].axis('off')\n",
    "axs[1].set_title('柏市の世帯数(2020)', fontsize=12)\n",
    "\n",
    "# Add the basemap to both subplots\n",
    "ctx.add_basemap(axs[0], source='https://cyberjapandata.gsi.go.jp/xyz/seamlessphoto/{z}/{x}/{y}.jpg')\n",
    "ctx.add_basemap(axs[1], source='https://cyberjapandata.gsi.go.jp/xyz/seamlessphoto/{z}/{x}/{y}.jpg')\n",
    "\n",
    "# Adjust the spacing between subplots\n",
    "plt.tight_layout()\n",
    "\n",
    "# Show the figure\n",
    "plt.show()\n"
   ]
  },
  {
   "cell_type": "code",
   "execution_count": null,
   "metadata": {},
   "outputs": [],
   "source": [
    "# Create a figure with two subplots\n",
    "fig, axs = plt.subplots(1,2, figsize=(12, 6))\n",
    "\n",
    "# Plot the first map on the left subplot\n",
    "gdf.plot(ax=axs[0],\n",
    "         column='JINKO',\n",
    "         legend=True,\n",
    "         cmap='Reds',\n",
    "         edgecolor='black',\n",
    "         linewidth=0.1,\n",
    "         alpha=0.8,\n",
    "         legend_kwds={'label': \"人口数\",'shrink': 0.6, 'orientation': \"horizontal\", 'pad': 0.01}\n",
    "         )\n",
    "axs[0].axis('off')\n",
    "axs[0].set_title('柏市の人口(2020)', fontsize=12)\n",
    "\n",
    "# Plot the second map on the right subplot as an area map\n",
    "gdf.plot(ax=axs[1],\n",
    "         column='AREA',\n",
    "         legend=True,\n",
    "         cmap='Greens',\n",
    "         edgecolor='black',\n",
    "         linewidth=0.1,\n",
    "         alpha=0.8,\n",
    "         legend_kwds={'label': \"面積\",'shrink': 0.6, 'orientation': \"horizontal\", 'pad': 0.01}\n",
    "         )\n",
    "axs[1].axis('off')\n",
    "axs[1].set_title('柏市の面積(2020)', fontsize=12)\n",
    "\n",
    "# Add the basemap to both subplots\n",
    "ctx.add_basemap(axs[0], source='https://cyberjapandata.gsi.go.jp/xyz/seamlessphoto/{z}/{x}/{y}.jpg')\n",
    "ctx.add_basemap(axs[1], source='https://cyberjapandata.gsi.go.jp/xyz/seamlessphoto/{z}/{x}/{y}.jpg')\n",
    "\n",
    "# Adjust the spacing between subplots\n",
    "plt.tight_layout()\n",
    "\n",
    "# Show the figure\n",
    "plt.show()\n"
   ]
  },
  {
   "cell_type": "markdown",
   "metadata": {},
   "source": [
    "# GISクラスの最終プロジェクト課題（Python使用）\n",
    "\n",
    "## 概要：\n",
    "\n",
    "最終プロジェクトとして、Pythonを使用してデジタルマップを作成する。トピックは自由に選べますが、GISの基本原則に従った内容とし、基本的な地図要素を含める必要がある。\n",
    "\n",
    "興味のあるトピックを選び、空間データの分析または可視化を含めてください。\n",
    "\n",
    "トピックの例としては以下が挙げられます：\n",
    "- 複数の都市の人口統計を比較する\n",
    "- 都市の犯罪事件のマッピング\n",
    "- 時間経過による人口密度の変化の可視化\n",
    "- 環境影響評価\n",
    "- 都市開発の分析\n",
    "- 自然災害リスクマッピング\n",
    "\n",
    "## 来週提出するもの:\n",
    "\n",
    "最終トピックのテーマを記載した Jupyter ノートブック。トピックをできるだけ詳しく記載し、マップの作成に使用するデータ ソースのリストと、作成するマップの種類に関する予備的なアイデアを記載します。\n",
    "\n",
    "最後に、トピック領域の場所を示すマップを作成する。"
   ]
  },
  {
   "cell_type": "markdown",
   "metadata": {},
   "source": []
  }
 ],
 "metadata": {
  "kernelspec": {
   "display_name": "geos",
   "language": "python",
   "name": "python3"
  },
  "language_info": {
   "codemirror_mode": {
    "name": "ipython",
    "version": 3
   },
   "file_extension": ".py",
   "mimetype": "text/x-python",
   "name": "python",
   "nbconvert_exporter": "python",
   "pygments_lexer": "ipython3",
   "version": "3.11.9"
  },
  "orig_nbformat": 4
 },
 "nbformat": 4,
 "nbformat_minor": 2
}
